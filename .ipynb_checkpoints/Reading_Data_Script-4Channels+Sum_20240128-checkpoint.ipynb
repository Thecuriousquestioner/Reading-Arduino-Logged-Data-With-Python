{
 "cells": [
  {
   "cell_type": "code",
   "execution_count": null,
   "metadata": {},
   "outputs": [],
   "source": [
    "#In this box we import all the libraries that will be used in the rest of the script. \n",
    "import matplotlib\n",
    "matplotlib.use(\"Qt5Agg\")\n",
    "import matplotlib.pyplot as plt\n",
    "from matplotlib import style\n",
    "import matplotlib.dates as matdates\n",
    "import numpy as np\n",
    "from datetime import datetime\n",
    "import pandas as pd"
   ]
  },
  {
   "cell_type": "code",
   "execution_count": null,
   "metadata": {},
   "outputs": [],
   "source": [
    "#This line loads the data recorded and arranges it as a dataframe.You can load different type of files, but in the following I will\n",
    "# use only \"\".csv\" format.\n",
    "#the path of the file is between the two quotes and has to be the complete path of the file. You can copy the file path after opening\n",
    "# the window. The method is different whether you are on a PC or a mac.\n",
    "# To copy file path on windows: https://www.howtogeek.com/670447/how-to-copy-the-full-path-of-a-file-on-windows-10/#:~:text=To%20copy%20the%20full%20path%20of%20a%20file%20or%20folder,in%20the%20File%20Explorer%20toolbar.\n",
    "#To copy file path on MAC: https://www.howtogeek.com/670447/how-to-copy-the-full-path-of-a-file-on-windows-10/#:~:text=To%20copy%20the%20full%20path%20of%20a%20file%20or%20folder,in%20the%20File%20Explorer%20toolbar.\n",
    "\n",
    "# Once you define the path, you need to know what the data file looks like so that you can properly choose the options this \n",
    "# command offers such as \"skiprows\" and \"usecols\"\n",
    "\n",
    "A00=pd.read_csv(r'C:FOLDERPATH\\DT151751-Test_Data.csv', skiprows=1, usecols=['AD1015-A0','AD1015-A1','AD1015-A2','AD1015-A3'])"
   ]
  },
  {
   "cell_type": "code",
   "execution_count": null,
   "metadata": {},
   "outputs": [],
   "source": [
    "A00.head()"
   ]
  },
  {
   "cell_type": "code",
   "execution_count": null,
   "metadata": {},
   "outputs": [],
   "source": [
    "#The data is recorded in \"bits\" by the Arduino, so now we need to conver it in Volts. \n",
    "# Knowing the reference voltage is of Aref=4960mV and the resolution is 1024 bits, we need to multiply each value \n",
    "# to the gain in mv/Bits:\n",
    "A03=A00*4960/1024"
   ]
  },
  {
   "cell_type": "code",
   "execution_count": null,
   "metadata": {},
   "outputs": [],
   "source": [
    "A03.head()"
   ]
  },
  {
   "cell_type": "code",
   "execution_count": null,
   "metadata": {},
   "outputs": [],
   "source": [
    "A03.count()"
   ]
  },
  {
   "cell_type": "code",
   "execution_count": null,
   "metadata": {},
   "outputs": [],
   "source": [
    "#This line calculates the sum of all the four channels recorded and creates a sepeate dataframe.\n",
    "#Note that the number of elements of this dataframe is the same of the original file: you can see this with\n",
    "# the dataframe.count() command below. \n",
    "\n",
    "\n",
    "cols_to_sum = A03.columns[ : A03.shape[1]]\n",
    "A03T=pd.DataFrame()\n",
    "A03T['A03Ttot'] = A03[cols_to_sum].sum(axis=1)"
   ]
  },
  {
   "cell_type": "code",
   "execution_count": null,
   "metadata": {},
   "outputs": [],
   "source": [
    "#Use this line if you want to save the sum dataframe in a separate file. Specify the path,the file name and format. \n",
    "#A03T.to_csv(r'FILEPATH\\filename.csv', index=False)"
   ]
  },
  {
   "cell_type": "code",
   "execution_count": null,
   "metadata": {},
   "outputs": [],
   "source": [
    "#Use this line to load the sum file that was saved in the previous step or that was already created. \n",
    "#A03T=pd.read_csv(r'FILEPATH\\filename.csv')"
   ]
  },
  {
   "cell_type": "code",
   "execution_count": null,
   "metadata": {},
   "outputs": [],
   "source": [
    "A03T.count()"
   ]
  },
  {
   "cell_type": "code",
   "execution_count": null,
   "metadata": {},
   "outputs": [],
   "source": [
    "A03T.head()"
   ]
  },
  {
   "cell_type": "code",
   "execution_count": null,
   "metadata": {},
   "outputs": [],
   "source": []
  },
  {
   "cell_type": "code",
   "execution_count": null,
   "metadata": {},
   "outputs": [],
   "source": [
    "#This box is to generate a time stamp range series, based on the length and sampling time of the original file\n",
    "#The data imported is from an Adruino datalogger that I wrote about in a separate paper that records only the values without\n",
    "#recording each data point's time stamp. Knowing the date, the sampling frequency and the \"periods\" (which is the dataframe count\n",
    "# found with the command A03.count()) we generate the time series that will give the abscissa values. \n",
    "\n",
    "Ti=pd.DataFrame({'TIME':pd.date_range(start='2023-09-23 15:17:51', freq='25ms', periods=5446)})\n"
   ]
  },
  {
   "cell_type": "code",
   "execution_count": null,
   "metadata": {},
   "outputs": [],
   "source": [
    "# This line is just to make sure I generated the correct time file. \n",
    "Ti.head()"
   ]
  },
  {
   "cell_type": "code",
   "execution_count": null,
   "metadata": {},
   "outputs": [],
   "source": [
    "# This line is just to make sure the element count is the same of the recorded file data.\n",
    "# if \"Ti\" is not of the same lenght of the data file, you'll get an error when trying to plot the file. \n",
    "Ti.count()"
   ]
  },
  {
   "cell_type": "code",
   "execution_count": null,
   "metadata": {},
   "outputs": [],
   "source": [
    "# ----------------------------- RMS CALCULATION -----------------------------\n",
    "\n",
    "#--------Insert data in the lines  below, based on your measurements. \n",
    "N=5446 # samples of data. This is the same value of the \"A03.count()\" and \"periods\"\n",
    "T=25 # sampling period in milli-seconds (or time between samples) = 1/(sampling frequency). Read this value from the\n",
    "     # file data and the \"freq\" fron the time datafrae \"Ti\" above. \n",
    "Ttot=N*T # total sampling time in milli-seconds\n",
    "Trms=1000 # time frame in which we want to calculate the RMS value in [milli-seconds] : \n",
    "            # 1sec=1,000\n",
    "            # 30sec=30,000\n",
    "            # 60sec=60,000\n",
    "            # 5min = 300sec = 300,000\n",
    "            # 10min = 600sec = 600,000\n",
    "            # 15min = 900sec = 900,000 msec= 15*60*1000\n",
    "            # make sure the value is within the total time of sampling or you will get wrong results. \n",
    "\n",
    "#-------------------------------- The following lines of code make the calculations...\n",
    "#------------------------------change only the variable names to match the variable names you are using -----------------\n",
    "Nrms=Trms//T # number of samples needed for the RMS. this number is always an integer\n",
    "Ns=0        #start index of iloc \n",
    "Ne=Nrms-1  # end index of iloc \n",
    "\n",
    "\n",
    "\n",
    "\n",
    "#-----------------calculate the RMS with elements of a data frame in Pandas. \n",
    "\n",
    "A03Trms=(pd.DataFrame(A03T.iloc[Ns:Ne,0])**2).mean().pow(1/2) #.sum(0) #.pow(1/2)\n",
    "A031rms=(pd.DataFrame(A03.iloc[Ns:Ne,0])**2).mean().pow(1/2)\n",
    "A032rms=(pd.DataFrame(A03.iloc[Ns:Ne,1])**2).mean().pow(1/2)\n",
    "A033rms=(pd.DataFrame(A03.iloc[Ns:Ne,2])**2).mean().pow(1/2)\n",
    "A034rms=(pd.DataFrame(A03.iloc[Ns:Ne,3])**2).mean().pow(1/2)\n",
    "\n",
    "#generate an array of the RMS values of the same sample length of the data calculated: \n",
    "#if the RMS is of Nrms data points then this array is of Nrms points\n",
    "\n",
    "A03Trms1=np.full((Nrms,1),A03Trms)\n",
    "A031rms1=np.full((Nrms,1),A031rms)\n",
    "A032rms1=np.full((Nrms,1),A032rms)\n",
    "A033rms1=np.full((Nrms,1),A033rms)\n",
    "A034rms1=np.full((Nrms,1),A034rms)\n",
    "\n",
    "# iteration to calculate the running RMS on the rest of the data\n",
    "y=N//Nrms # how many times I need to calculate the RMS and make a vector?\n",
    "\n",
    "for i in range(1,y):\n",
    "               Ns = Ne+1\n",
    "               Ne = Ns+Nrms-1\n",
    "               A03Trms22=(pd.DataFrame(A03T.iloc[Ns:Ne,0])**2).mean().pow(1/2) #.sum(0) #.pow(1/2)\n",
    "               A031rms22=(pd.DataFrame(A03.iloc[Ns:Ne,0])**2).mean().pow(1/2)\n",
    "               A032rms22=(pd.DataFrame(A03.iloc[Ns:Ne,1])**2).mean().pow(1/2)\n",
    "               A033rms22=(pd.DataFrame(A03.iloc[Ns:Ne,2])**2).mean().pow(1/2)\n",
    "               A034rms22=(pd.DataFrame(A03.iloc[Ns:Ne,3])**2).mean().pow(1/2)\n",
    "              \n",
    "               A03Trms2=np.full((Nrms,1),A03Trms22)\n",
    "               A031rms2=np.full((Nrms,1),A031rms22)\n",
    "               A032rms2=np.full((Nrms,1),A032rms22)\n",
    "               A033rms2=np.full((Nrms,1),A033rms22)\n",
    "               A034rms2=np.full((Nrms,1),A034rms22)\n",
    "                \n",
    "               A03Trms1=np.concatenate((A03Trms1,A03Trms2)) #arr = np.concatenate((arr1, arr2)) from https://www.w3schools.com/python/numpy/numpy_array_join.asp\n",
    "               A031rms1=np.concatenate((A031rms1,A031rms2))\n",
    "               A032rms1=np.concatenate((A032rms1,A032rms2))\n",
    "               A033rms1=np.concatenate((A033rms1,A033rms2))\n",
    "               A034rms1=np.concatenate((A034rms1,A034rms2))\n",
    "                \n",
    "A03TRMS=pd.DataFrame(A03Trms1, columns=['A03trms'])\n",
    "A031RMS=pd.DataFrame(A031rms1, columns=['A031rms'])\n",
    "A032RMS=pd.DataFrame(A032rms1, columns=['A032rms'])\n",
    "A033RMS=pd.DataFrame(A033rms1, columns=['A033rms'])\n",
    "A034RMS=pd.DataFrame(A034rms1, columns=['A034rms'])\n",
    "\n",
    "xrms=len(A03Trms1) \n",
    "\n",
    "#this line is to generate a time stamp range series, based on the length and sampling time of the original file\n",
    "#The date and time range generated has to be converted into a datetime series element before we can use it\n",
    "#the code for this is given below\n",
    "\n",
    "TRMS= pd.DataFrame({'TIME': pd.date_range(start='2023-09-23 15:17:51', freq='25ms', periods=xrms)})\n",
    "\n"
   ]
  },
  {
   "cell_type": "code",
   "execution_count": null,
   "metadata": {},
   "outputs": [],
   "source": [
    "# This line is just a check-point of the RMS calculation. \n",
    "A03TRMS.head()\n"
   ]
  },
  {
   "cell_type": "code",
   "execution_count": null,
   "metadata": {},
   "outputs": [],
   "source": [
    "# This line is just a check-point of the RMS time series calculation. \n",
    "TRMS.head()"
   ]
  },
  {
   "cell_type": "code",
   "execution_count": null,
   "metadata": {},
   "outputs": [],
   "source": [
    "# ------------ CODE TO FIND THE MAXIMUM ELEMENT ----------\n",
    "\n",
    "\n",
    "#https://www.youtube.com/watch?v=egdfGJaBIh0&t=595s  ----> explains how to extract the element from the dataframe.\n",
    "#used for the equality [St[St['Stot']==St['Stot'].max()]] --> note that you can also write => to extract all the elements greather than that number. \n",
    "#See also https://www.youtube.com/watch?v=2AFGPdNn4FM  -----> on how to filter rows of a pandas dataframe. \n",
    "# other videos:\n",
    "#              https://youtube.com/watch?v=2xwto0MK_9U&si=EnSIkaIECMiOmarE\n",
    "#              https://youtube.com/watch?v=n2ff3rcLgnE&si=EnSIkaIECMiOmarE\n",
    "\n",
    "# you can also find other values other than the ones listed below using \"TrainStot.describe()\" or \"Tspeed.describe()\"\n",
    "#go to https://pandas.pydata.org/pandas-docs/version/0.20.2/generated/pandas.DataFrame.describe.html\n",
    "\n",
    "max1=pd.concat([A03T[A03T['A03Ttot']==A03T['A03Ttot'].max()]]) # this line finds the maximum of the data file selected. \n",
    "tmax1=Ti.iloc[max1.index,:] #this line finds the correspodning date-tme value of the maximum\n",
    "max1=pd.concat([tmax1, max1], axis=1) # this line creates a dataframe with the date-time value and the max value\n",
    "max1"
   ]
  },
  {
   "cell_type": "code",
   "execution_count": null,
   "metadata": {},
   "outputs": [],
   "source": [
    "# ------------ CODE TO FIND THE MINIMUM ELEMENT ----------\n",
    "# SEE CODE OF MAXIMUM ELEMNT FOR REFERENCES ON THIS TOPIC.  \n",
    "\n",
    "min1=pd.concat([A03T[A03T['A03Ttot']==A03T['A03Ttot'].min()]]) # this line finds the minimum of the data file selected. \n",
    "tmin1=Ti.iloc[min1.index,:] #this line finds the correspodning date-tme value of the minimum\n",
    "min1=pd.concat([tmin1, min1], axis=1) # this line creates a dataframe with the date-time value and the minimum value\n",
    "min1"
   ]
  },
  {
   "cell_type": "code",
   "execution_count": null,
   "metadata": {},
   "outputs": [],
   "source": [
    "# ------------ CODE TO FIND THE MEAN ELEMENT ----------\n",
    "mean1=A03T['A03Ttot'].mean() # this line finds the mean element\n",
    "#smean=pd.concat([tsmean, vmean], axis=1) # this line creates a dataframe with the date-time value and the max value\n",
    "mean1"
   ]
  },
  {
   "cell_type": "code",
   "execution_count": null,
   "metadata": {},
   "outputs": [],
   "source": [
    "# ------------ CODE TO FIND THE MEDIAN ELEMENT ----------\n",
    "median1=A03T['A03Ttot'].median() # this line finds the median element\n",
    "#smean=pd.concat([tsmean, vmean], axis=1) # this line creates a dataframe with the date-time value and the max value\n",
    "median1"
   ]
  },
  {
   "cell_type": "code",
   "execution_count": null,
   "metadata": {},
   "outputs": [],
   "source": [
    "# ------------ CODE TO FIND THE STANDARD DEVIATION ----------\n",
    "std1=A03T['A03Ttot'].std() # this line finds the sdtandard deviation\n",
    "#smean=pd.concat([tsmean, vmean], axis=1) # this line creates a dataframe with the date-time value and the max value\n",
    "std1"
   ]
  },
  {
   "cell_type": "code",
   "execution_count": null,
   "metadata": {},
   "outputs": [],
   "source": []
  },
  {
   "cell_type": "code",
   "execution_count": null,
   "metadata": {},
   "outputs": [],
   "source": []
  },
  {
   "cell_type": "code",
   "execution_count": null,
   "metadata": {},
   "outputs": [],
   "source": []
  },
  {
   "cell_type": "code",
   "execution_count": null,
   "metadata": {},
   "outputs": [],
   "source": [
    "# --------- ---- This Code is to plot all the values calculated above in a convenient format. ---- -------- --------- ----- \n",
    "\n",
    "# Although the code works fine, the following two lines are necessary because this code gives wornings when plotting the maximum, median \n",
    "# and standard deviation values.\n",
    "import warnings\n",
    "warnings.simplefilter(action='ignore', category=FutureWarning)\n",
    "# -- end of warning blocker. \n",
    "\n",
    "# -- Start of graph creattion.  \n",
    "fig=plt.figure(1,facecolor='#f0f0f0')\n",
    "                  \n",
    "ax1=plt.subplot2grid((5,1), (0,0), rowspan=1, colspan=1)\n",
    "plt.title('ADS1015+ Arduino 4 Channels: Sine+Ramp+Square+Pos Ladder + Total sum \\n 2Hz | 2Vpp | 2Vdc-Offset | [1sec RMS Value] (Sept 23th, 2023)') #Decatour 7 file - Total Current and Feeder Currents vs their 15min RMS Value (Sept 30th, 2021)\n",
    "plt.ylabel('Sum\\n  [mV]')\n",
    "ax2=plt.subplot2grid((5,1), (1,0), rowspan=1, colspan=1, sharex=ax1)\n",
    "plt.ylabel('Sine - [mV]')\n",
    "ax3=plt.subplot2grid((5,1), (2,0), rowspan=1, colspan=1, sharex=ax1)\n",
    "plt.ylabel('Ramp - [mV]')\n",
    "ax4=plt.subplot2grid((5,1), (3,0), rowspan=1, colspan=1, sharex=ax1)\n",
    "plt.ylabel('Square - [mV]')\n",
    "ax5=plt.subplot2grid((5,1), (4,0), rowspan=1, colspan=1, sharex=ax1)\n",
    "plt.ylabel('Pos Ladder - [mV]')\n",
    "plt.xlabel('Time [Hours:Minute:Seconds]')\n",
    "\n",
    "#Grid Settings\n",
    "ax1.grid(True,linestyle='-',color='0.75') \n",
    "ax2.grid(True,linestyle='-',color='0.75') \n",
    "ax3.grid(True,linestyle='-',color='0.75') \n",
    "ax4.grid(True,linestyle='-',color='0.75') \n",
    "ax5.grid(True,linestyle='-',color='0.75') \n",
    "\n",
    "# -----------------------------------------------------Configure x-ticks \n",
    "\n",
    "#- The  Xticks don't work on the x axis: I forgot that this is where I left it off last year. \n",
    "#I need to find out how to make it work. \n",
    "#for now I will bypass all xtick settings and use the default. \n",
    "\n",
    "myFmt = matdates.DateFormatter('%H') # :%S.%f here you can format your datetick labels as desired\n",
    "mjrloc = matdates.HourLocator(interval=1)  #byhour=[0,24]   interval=1  byhour=range(15)\n",
    "mjrloc.MAXTICKS  = 50000\n",
    "ax1.xaxis.set_major_locator(mjrloc)\n",
    "ax1.xaxis.set_major_formatter(myFmt)\n",
    "ax2.xaxis.set_major_locator(mjrloc)\n",
    "ax2.xaxis.set_major_formatter(myFmt)\n",
    "ax3.xaxis.set_major_locator(mjrloc)\n",
    "ax3.xaxis.set_major_formatter(myFmt)\n",
    "ax4.xaxis.set_major_locator(mjrloc)\n",
    "ax4.xaxis.set_major_formatter(myFmt)\n",
    "ax5.xaxis.set_major_locator(mjrloc)\n",
    "ax5.xaxis.set_major_formatter(myFmt)\n",
    "myFmt1 = matdates.DateFormatter('%H:%M:%S')\n",
    "minloc = matdates.SecondLocator(interval=1)  # Other options are (expression between parents):bysecond=1, bysecond=[0,30,60] ;  bysecond=range(8)  \n",
    "#For the location of the ticks you can also choose to locate them \"by minute\" depending on the time frame recorded. \n",
    "# the scritp would then be: minloc = matdates.MinuteLocator(byminute=1). for MnuteLocator, \n",
    "#other options are (expression between parents): byminute=[0,1], byminute = [15,30,45]  - interval=30 byhour=[0,24]  \n",
    "     \n",
    "mjrloc.MAXTICKS  = 50000\n",
    "minloc.MAXTICKS = 50000\n",
    "ax5.xaxis.set_minor_locator(minloc)\n",
    "ax5.xaxis.set_minor_formatter(myFmt1)\n",
    "ax5.xaxis.set_tick_params(which='major', rotation=0, labelsize=10, length=7, color='r')\n",
    "ax5.xaxis.set_tick_params(which='minor', rotation=60, labelsize=6, color='k')\n",
    "\n",
    "#the following lines make the ticks disapper for the x axis of the subplots above the bottom one \n",
    "#that would be for the top 4 subplots\n",
    "# If you don't do this every subplot will show the x-axis. \n",
    "ax1.tick_params(axis='x',  which='both', bottom=False, top=False, labelbottom=False) \n",
    "ax2.tick_params(axis='x',  which='both', bottom=False, top=False, labelbottom=False) \n",
    "ax3.tick_params(axis='x',  which='both', bottom=False, top=False, labelbottom=False) \n",
    "ax4.tick_params(axis='x',  which='both', bottom=False, top=False, labelbottom=False) \n",
    "\n",
    "#------------------------------    Plotting the Curves for the Sum and the Data Recorded ---------------\n",
    "\n",
    "########################################--SET y limits\n",
    "#https://stackoverflow.com/questions/17787366/setting-yaxis-in-matplotlib-using-pandas\n",
    "ax1.set_ylim(3000,30000)\n",
    "\n",
    "\n",
    "# Total data plot with information (is on the top subplot)\n",
    "ax1.plot_date(Ti,A03T['A03Ttot'], label='A03Tot [mV]', fmt=\"r-\", marker=\".\", linewidth=0.7) #fmt=\"g-\", alpha=0.5, linewidth=0.7\n",
    "ax1.plot_date(TRMS,A03TRMS['A03trms'], label='RMS', fmt=\"b-\", marker=\".\", linewidth=0.7) #fmt=\"g-\", alpha=0.5, linewidth=0.7\n",
    "\n",
    "#----------Plot of the Maximum WITH ANNOTATIONS\n",
    "#**********************************************\n",
    "ax1.plot_date(max1['TIME'],max1['A03Ttot'], fmt=\"c-\", marker=\"o\",linewidth=1.0, alpha=0.5)\n",
    "\n",
    "#Annotatig code found at: https://stackoverflow.com/questions/11067368/annotate-time-series-plot-in-matplotlib\n",
    "ax1.annotate('Max ~ VALUE', (matdates.date2num(max1['TIME']), max1['A03Ttot']), xytext=(10, 10),\n",
    "   textcoords='offset points', arrowprops=dict(arrowstyle='-|>'))\n",
    "\n",
    "#-----------------------------PLOT OF VERTICAL AND HORIZONTAL LINES (FOR THE MAXIMUM, MEDIAN AND STANDAR DEVIATION)\n",
    "# https://stackoverflow.com/questions/19213789/how-do-you-plot-a-vertical-line-on-a-time-series-plot-in-pandas\n",
    "#thisline is correct: ax2.axvline(pd.to_datetime('2018-07-16 10:52:35.149'), color='r', linestyle='--', lw=2)\n",
    "\n",
    "#vertical and horizontal lines for maximum\n",
    "ax1.axvline(tmax1.iat[0,0] , color='c', linestyle='--', lw=2)\n",
    "ax1.axhline(A03T['A03Ttot'].max(), color='c', linestyle=':', lw=2)\n",
    "\n",
    "#horizontal line for median\n",
    "ax1.axhline(mean1, color='g', linestyle='--', lw=2)\n",
    "ax1.annotate('mean \\n value', (matdates.date2num(Ti.iloc[0,:]), mean1), xytext=(-60, -25),\n",
    "             textcoords='offset points', arrowprops=dict(arrowstyle='-|>'))\n",
    "\n",
    "#horizontal line for standard deviation\n",
    "ax1.axhline(std1, color='y', linestyle='-.', lw=2)\n",
    "ax1.annotate('std-dev', (matdates.date2num(Ti.iloc[0,:]), std1), xytext=(-30, 30),\n",
    "   textcoords='offset points', arrowprops=dict(arrowstyle='-|>'))\n",
    "\n",
    "#END OF PLOTS AND ANNOTATIONS FOR THE SUM DATAFRAME\n",
    "##########################################################################\n",
    "\n",
    "\n",
    "# DATA PLOTS - From Top subplot to bottom subplot\n",
    "\n",
    "ax2.plot_date(Ti,A03['AD1015-A0'], label='Sine-[mV]', fmt=\"c-\", marker=\".\",linewidth=0.7, alpha=0.5)\n",
    "ax2.plot_date(TRMS,A031RMS['A031rms'], label='Sine-RMS', fmt=\"b-\", marker=\".\", linewidth=0.7) \n",
    "\n",
    "ax3.plot_date(Ti,A03['AD1015-A1'], label='Ramp-[mV]', fmt=\"k--\", marker=\".\",linewidth=0.7, alpha=0.5)\n",
    "ax3.plot_date(TRMS,A032RMS['A032rms'], label='Ramp-RMS', fmt=\"b-\", marker=\".\", linewidth=0.7) \n",
    "\n",
    "ax4.plot_date(Ti,A03['AD1015-A2'], label='Square-mV]', fmt=\"g-\", marker=\".\",linewidth=0.7, alpha=0.5)\n",
    "ax4.plot_date(TRMS,A033RMS['A033rms'], label='Square-RMS', fmt=\"b-\", marker=\".\", linewidth=0.7) \n",
    "\n",
    "ax5.plot_date(Ti,A03['AD1015-A3'], label='Pos Ladder-[mV]', fmt=\"m-\", marker=\".\",linewidth=0.7, alpha=0.5)\n",
    "ax5.plot_date(TRMS,A034RMS['A034rms'], label='pos Ladder-RMS', fmt=\"b-\", marker=\".\", linewidth=0.7) \n",
    "\n",
    "#More settings for legend, grid \n",
    "\n",
    "ax1.legend()\n",
    "leg=ax1.legend(loc='upper left', prop={'size':8})\n",
    "leg.get_frame().set_alpha(0.4)\n",
    "\n",
    "ax2.legend()\n",
    "leg=ax2.legend(loc='upper left', prop={'size':8})\n",
    "leg.get_frame().set_alpha(0.4)\n",
    "\n",
    "ax3.legend()\n",
    "leg=ax3.legend(loc='upper left', prop={'size':8})\n",
    "leg.get_frame().set_alpha(0.4)\n",
    "\n",
    "ax4.legend()\n",
    "leg=ax4.legend(loc='upper left', prop={'size':8})\n",
    "leg.get_frame().set_alpha(0.4)\n",
    "\n",
    "ax5.legend()\n",
    "leg=ax5.legend(loc='upper left', prop={'size':8})\n",
    "leg.get_frame().set_alpha(0.4)\n",
    "\n",
    "\n",
    "\n",
    "#I removed the code below because the subplots come too thin. \n",
    "#fig.tight_layout()\n",
    "\n",
    "#This code is to have a multicursor for each subplot\n",
    "from matplotlib.widgets import MultiCursor\n",
    "multi = MultiCursor(fig.canvas, (ax1, ax2, ax3, ax4,ax5), color='k', lw=.5)\n",
    "\n",
    "#This code is to maximize the window. It's associated to the Qt5 library\n",
    "mng = plt.get_current_fig_manager()\n",
    "mng.window.showMaximized()\n",
    "\n",
    "\n",
    "#This code finally opens the figure and shows the window.\n",
    "#not sure if there is a difference between fig.show() and plt.show()\n",
    "\n",
    "fig.show()"
   ]
  },
  {
   "cell_type": "code",
   "execution_count": null,
   "metadata": {},
   "outputs": [],
   "source": []
  },
  {
   "cell_type": "code",
   "execution_count": null,
   "metadata": {},
   "outputs": [],
   "source": []
  }
 ],
 "metadata": {
  "kernelspec": {
   "display_name": "Python 3 (ipykernel)",
   "language": "python",
   "name": "python3"
  },
  "language_info": {
   "codemirror_mode": {
    "name": "ipython",
    "version": 3
   },
   "file_extension": ".py",
   "mimetype": "text/x-python",
   "name": "python",
   "nbconvert_exporter": "python",
   "pygments_lexer": "ipython3",
   "version": "3.11.5"
  }
 },
 "nbformat": 4,
 "nbformat_minor": 4
}
